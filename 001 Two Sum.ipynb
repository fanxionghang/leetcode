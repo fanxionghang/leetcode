{
 "cells": [
  {
   "cell_type": "code",
   "execution_count": 43,
   "metadata": {},
   "outputs": [
    {
     "name": "stdout",
     "output_type": "stream",
     "text": [
      "[0, 2]\n"
     ]
    }
   ],
   "source": [
    "\"\"\"\n",
    "@adult:bigbear\n",
    "@time:2018/08/20 14.59\n",
    "@theme:twosum\n",
    "\"\"\"\n",
    "\n",
    "#1.0 两数之和\n",
    "#题目：给定一个整数数组和一个目标值，找出数组中和为目标值的两个数。\n",
    "#条件：假设每个输入只对应一种答案，且同样的元素不能被重复利用\n",
    "\n",
    "#方法1：暴力循环\n",
    "#结果：通过，6940 ms\n",
    "\n",
    "class Solution:\n",
    "    def twoSum(self,nums,target):\n",
    "        \n",
    "        \"\"\"\n",
    "        :type nums:List[int]\n",
    "        :type target:int\n",
    "        :rtype:List[int]\n",
    "        \"\"\"\n",
    "        for i in range(len(nums)):\n",
    "            for j in range(i+1,len(nums)):\n",
    "                if nums[i]+nums[j]==target:\n",
    "                    return [i,j]\n",
    "                \n",
    "                \n",
    "print(Solution().twoSum([2, 7, 2, 15], 4));\n",
    "\n",
    "\n",
    "#方法：利用字典即hash\n",
    "#结果：通过，48ms"
   ]
  },
  {
   "cell_type": "code",
   "execution_count": 42,
   "metadata": {},
   "outputs": [
    {
     "name": "stdout",
     "output_type": "stream",
     "text": [
      "[0, 2]\n"
     ]
    }
   ],
   "source": [
    "#方法2：利用字典即hash\n",
    "#结果：通过，48ms\n",
    "class Solution:\n",
    "    def twoSum(self,nums,target):\n",
    "        \n",
    "        \"\"\"\n",
    "        :type nums:List[int]\n",
    "        :type target:int\n",
    "        :rtype:List[int]\n",
    "        \"\"\"\n",
    "        hash_map = {}\n",
    "        for index,value in enumerate(nums):\n",
    "            hash_map[value] = index\n",
    "        for index1,value in enumerate(nums):\n",
    "            if target - value in hash_map:\n",
    "                index2 = hash_map[target - value]\n",
    "                if index1 != index2:\n",
    "                    return [index1,index2]\n",
    "print(Solution().twoSum([2, 7,2, 15], 4));                 "
   ]
  },
  {
   "cell_type": "raw",
   "metadata": {},
   "source": [
    "总结：\n",
    "1.类中方法的调用：Solution().twoSum(nums,target)\n",
    "2.enumerate使用：将可遍历的数据对象（列表，元组，字符串）组合为所用序列\n",
    "3.hash的使用：python中的字典"
   ]
  },
  {
   "cell_type": "code",
   "execution_count": null,
   "metadata": {},
   "outputs": [],
   "source": []
  }
 ],
 "metadata": {
  "kernelspec": {
   "display_name": "Python 3",
   "language": "python",
   "name": "python3"
  },
  "language_info": {
   "codemirror_mode": {
    "name": "ipython",
    "version": 3
   },
   "file_extension": ".py",
   "mimetype": "text/x-python",
   "name": "python",
   "nbconvert_exporter": "python",
   "pygments_lexer": "ipython3",
   "version": "3.6.4"
  },
  "toc": {
   "base_numbering": 1,
   "nav_menu": {},
   "number_sections": true,
   "sideBar": true,
   "skip_h1_title": false,
   "title_cell": "Table of Contents",
   "title_sidebar": "Contents",
   "toc_cell": false,
   "toc_position": {},
   "toc_section_display": true,
   "toc_window_display": false
  }
 },
 "nbformat": 4,
 "nbformat_minor": 2
}
